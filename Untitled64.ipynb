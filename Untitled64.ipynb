{
 "cells": [
  {
   "cell_type": "code",
   "execution_count": 2,
   "metadata": {},
   "outputs": [],
   "source": [
    "from tkinter import *\n",
    "expression =''"
   ]
  },
  {
   "cell_type": "code",
   "execution_count": 11,
   "metadata": {},
   "outputs": [],
   "source": [
    "\n",
    "#function to show the number pressed in the expression entry field\n",
    "def press(num):\n",
    "    global expression\n",
    "    expression=expression+str(num)\n",
    "    equation.set(expression)\n",
    "#function to clear thr expression entry field\n",
    "def clear():\n",
    "    global expression\n",
    "    expression=''\n",
    "    equation.set(expression)\n",
    "#fucntion to solve the equation after the operations have been typed \n",
    "def equal():\n",
    "    global expression\n",
    "    total=str(eval(expression)) #eval is a in-built function used to solve the equation\n",
    "    equation.set(total)\n",
    "    "
   ]
  },
  {
   "cell_type": "code",
   "execution_count": 39,
   "metadata": {},
   "outputs": [],
   "source": [
    "if __name__=='__main__':\n",
    "    gui=Tk()\n",
    "    gui.title('Simple Calculator')\n",
    "    gui.geometry('265x125')\n",
    "    equation=StringVar()\n",
    "    equation.set('Enter the expression')\n",
    " #defining the entry field using Entry() attribute\n",
    "    entry=Entry(gui,textvariable=equation)\n",
    "    entry.grid(columnspan=4,ipadx=70) #since 4 columns are used,columnspan is 4\n",
    "#now buttons using Button() attribute \n",
    "    b1=Button(gui,text='1',command=lambda:press(1),height=1,width=7)\n",
    "    b1.grid(row=1,column=0,sticky=\"nsew\") #sticky ensures no space is there between buttons.\n",
    "    b1=Button(gui,text='2',command=lambda:press(2),height=1,width=7)\n",
    "    b1.grid(row=1,column=1,sticky=\"nsew\")\n",
    "    b1=Button(gui,text='3',command=lambda:press(3),height=1,width=7)\n",
    "    b1.grid(row=1,column=2,sticky=\"nsew\")\n",
    "    b1=Button(gui,text='4',command=lambda:press(4),height=1,width=7)\n",
    "    b1.grid(row=2,column=0,sticky=\"nsew\")\n",
    "    b1=Button(gui,text='5',command=lambda:press(5),height=1,width=7)\n",
    "    b1.grid(row=2,column=1,sticky=\"nsew\")\n",
    "    b1=Button(gui,text='5',command=lambda:press(6),height=1,width=7)\n",
    "    b1.grid(row=2,column=2,sticky=\"nsew\")\n",
    "    b1=Button(gui,text='7',command=lambda:press(7),height=1,width=7)\n",
    "    b1.grid(row=3,column=0,sticky=\"nsew\")\n",
    "    b1=Button(gui,text='8',command=lambda:press(8),height=1,width=7)\n",
    "    b1.grid(row=3,column=1,sticky=\"nsew\")\n",
    "    b1=Button(gui,text='9',command=lambda:press(9),height=1,width=7)\n",
    "    b1.grid(row=3,column=2,sticky=\"nsew\")\n",
    "    b1=Button(gui,text='0',command=lambda:press(0),height=1,width=7)\n",
    "    b1.grid(row=4,column=0,sticky=\"nsew\")\n",
    "    b1=Button(gui,text='Clear',command=lambda:clear(),height=1,width=7)\n",
    "    b1.grid(row=4,column=1,sticky=\"nsew\")\n",
    "    b1=Button(gui,text='=',command=lambda:equal(),height=1,width=7)\n",
    "    b1.grid(row=4,column=2,sticky=\"nsew\")           \n",
    "    b1=Button(gui,text='+',command=lambda:press('+'),height=1,width=7)\n",
    "    b1.grid(row=1,column=3,sticky=\"nsew\")   \n",
    "    b1=Button(gui,text='-',command=lambda:press('-'),height=1,width=7)\n",
    "    b1.grid(row=2,column=3,sticky=\"nsew\")   \n",
    "    b1=Button(gui,text='*',command=lambda:press('*'),height=1,width=7)\n",
    "    b1.grid(row=3,column=3,sticky=\"nsew\")   \n",
    "    b1=Button(gui,text='/',command=lambda:press('/'),height=1,width=7)\n",
    "    b1.grid(row=4,column=3,sticky=\"nsew\")   \n",
    "#use to run the gui application\n",
    "    gui.mainloop()\n"
   ]
  },
  {
   "cell_type": "code",
   "execution_count": null,
   "metadata": {},
   "outputs": [],
   "source": []
  }
 ],
 "metadata": {
  "kernelspec": {
   "display_name": "Python 3",
   "language": "python",
   "name": "python3"
  },
  "language_info": {
   "codemirror_mode": {
    "name": "ipython",
    "version": 3
   },
   "file_extension": ".py",
   "mimetype": "text/x-python",
   "name": "python",
   "nbconvert_exporter": "python",
   "pygments_lexer": "ipython3",
   "version": "3.7.6"
  }
 },
 "nbformat": 4,
 "nbformat_minor": 4
}
